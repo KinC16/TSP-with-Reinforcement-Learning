{
 "cells": [
  {
   "cell_type": "code",
   "execution_count": 1,
   "id": "5f3d49a2-37ff-4d70-b0bc-f7fc8a47b126",
   "metadata": {},
   "outputs": [],
   "source": [
    "import os\n",
    "import numpy as np\n",
    "import tsplib95 as tsp\n",
    "\n",
    "import gym\n",
    "from gym import Env\n",
    "from gym.spaces import Discrete\n",
    "\n",
    "from stable_baselines3 import PPO\n",
    "from stable_baselines3.common.vec_env import DummyVecEnv\n",
    "from stable_baselines3.common.evaluation import evaluate_policy"
   ]
  },
  {
   "cell_type": "code",
   "execution_count": 2,
   "id": "2e1b0278-71d7-405d-a59a-0ca0d11db63c",
   "metadata": {},
   "outputs": [],
   "source": [
    "def load_tsp(problem_file):\n",
    "    script_dir = os.getcwd()\n",
    "    problem_path = os.path.join(script_dir, problem_file)\n",
    "    problem = tsp.load(problem_path)\n",
    "    return problem"
   ]
  },
  {
   "cell_type": "code",
   "execution_count": 4,
   "id": "44ac57ca-a5ee-421b-aef1-292a8795996d",
   "metadata": {},
   "outputs": [],
   "source": [
    "gr24 = load_tsp(\"gr24.tsp\")\n",
    "#print(gr24)\n",
    "gr24_opt = load_tsp(\"gr24.opt.tour\")\n",
    "#print(gr24_opt)"
   ]
  },
  {
   "cell_type": "code",
   "execution_count": 59,
   "id": "ada8dcc1-7b8e-4641-9d0c-cc0e4431e772",
   "metadata": {},
   "outputs": [],
   "source": [
    "class tspEnv(Env):\n",
    "    def __init__(self, problem):\n",
    "        self.action_space = Discrete(problem.dimension)\n",
    "        self.observation_space = Discrete(problem.dimension)\n",
    "        self.tour = []\n",
    "        self.max_length = problem.dimension\n",
    "        self.w_matrix = get_w_matrix(problem)\n",
    "        \n",
    "    def step(self, action):\n",
    "         # Get current state\n",
    "        state = self._get_state()\n",
    "        new_state = action\n",
    "\n",
    "        # Get reward for such a move\n",
    "        reward = self._get_reward(state,new_state)\n",
    "\n",
    "        self._update_matrix(new_state)\n",
    "\n",
    "        # Append new_state to stops\n",
    "        self.tour.append(new_state)\n",
    "        done = len(self.tour) == self.max_length\n",
    "\n",
    "        return new_state, reward ,done\n",
    "        \n",
    "    def render(self):\n",
    "        pass\n",
    "        \n",
    "    def reset(self, start_node = 0):\n",
    "        self.tour = []\n",
    "        self.tour.append(start_node)\n",
    "        return start_node\n",
    "\n",
    "    def _get_state(self):\n",
    "        return self.tour[-1]\n",
    "\n",
    "    def _get_reward(self, state, new_state):\n",
    "        return -self.w_matrix[state][new_state]\n",
    "\n",
    "    def _get_w_matrix(problem):\n",
    "        data = []\n",
    "        weight = []\n",
    "        for i in problem.edge_weights:\n",
    "            for j in i:\n",
    "                data.append(j)\n",
    "\n",
    "        # convert lower triangle matrix to square matrix\n",
    "        if problem.edge_weight_format == \"LOWER_DIAG_ROW\":\n",
    "            for x in range(problem.dimension):   # format lower triangle matrix\n",
    "                node = []\n",
    "                w = data.pop(0)\n",
    "                while w != 0:\n",
    "                    node.append(w)\n",
    "                    w = data.pop(0)\n",
    "                while len(node) != problem.dimension:\n",
    "                    node.append(0)\n",
    "                weight.append(node)\n",
    "            matrix = np.triu(np.array(weight).T,1) + weight   #convert to square matrix\n",
    "        matrix[x == 0] = -np.inf\n",
    "        return matrix\n",
    "\n",
    "    def _update_matrix(self, new_state):\n",
    "        self.w_matrix[:, new_state] = -np.inf"
   ]
  },
  {
   "cell_type": "code",
   "execution_count": 60,
   "id": "c68376a4-5326-4de3-93b9-c9badc92ea96",
   "metadata": {},
   "outputs": [],
   "source": [
    "env = tspEnv(gr24)"
   ]
  },
  {
   "cell_type": "code",
   "execution_count": 61,
   "id": "2d565a17-8318-4dc0-86cf-a7ea03b8893a",
   "metadata": {},
   "outputs": [
    {
     "ename": "OverflowError",
     "evalue": "cannot convert float infinity to integer",
     "output_type": "error",
     "traceback": [
      "\u001b[1;31m---------------------------------------------------------------------------\u001b[0m",
      "\u001b[1;31mOverflowError\u001b[0m                             Traceback (most recent call last)",
      "Cell \u001b[1;32mIn[61], line 9\u001b[0m\n\u001b[0;32m      7\u001b[0m \u001b[38;5;28;01mwhile\u001b[39;00m \u001b[38;5;129;01mnot\u001b[39;00m done:\n\u001b[0;32m      8\u001b[0m     action \u001b[38;5;241m=\u001b[39m env\u001b[38;5;241m.\u001b[39maction_space\u001b[38;5;241m.\u001b[39msample()\n\u001b[1;32m----> 9\u001b[0m     obs, reward, done \u001b[38;5;241m=\u001b[39m env\u001b[38;5;241m.\u001b[39mstep(action)\n\u001b[0;32m     10\u001b[0m     score \u001b[38;5;241m+\u001b[39m\u001b[38;5;241m=\u001b[39m reward\n\u001b[0;32m     11\u001b[0m \u001b[38;5;28mprint\u001b[39m(\u001b[38;5;124m'\u001b[39m\u001b[38;5;124mEpisode:\u001b[39m\u001b[38;5;132;01m{}\u001b[39;00m\u001b[38;5;124m Score:\u001b[39m\u001b[38;5;132;01m{}\u001b[39;00m\u001b[38;5;124m'\u001b[39m\u001b[38;5;241m.\u001b[39mformat(episode, score))\n",
      "Cell \u001b[1;32mIn[59], line 17\u001b[0m, in \u001b[0;36mtspEnv.step\u001b[1;34m(self, action)\u001b[0m\n\u001b[0;32m     14\u001b[0m \u001b[38;5;66;03m# Get reward for such a move\u001b[39;00m\n\u001b[0;32m     15\u001b[0m reward \u001b[38;5;241m=\u001b[39m \u001b[38;5;28mself\u001b[39m\u001b[38;5;241m.\u001b[39m_get_reward(state,new_state)\n\u001b[1;32m---> 17\u001b[0m \u001b[38;5;28mself\u001b[39m\u001b[38;5;241m.\u001b[39m_update_matrix(new_state)\n\u001b[0;32m     19\u001b[0m \u001b[38;5;66;03m# Append new_state to stops\u001b[39;00m\n\u001b[0;32m     20\u001b[0m \u001b[38;5;28mself\u001b[39m\u001b[38;5;241m.\u001b[39mtour\u001b[38;5;241m.\u001b[39mappend(new_state)\n",
      "Cell \u001b[1;32mIn[59], line 62\u001b[0m, in \u001b[0;36mtspEnv._update_matrix\u001b[1;34m(self, new_state)\u001b[0m\n\u001b[0;32m     61\u001b[0m \u001b[38;5;28;01mdef\u001b[39;00m \u001b[38;5;21m_update_matrix\u001b[39m(\u001b[38;5;28mself\u001b[39m, new_state):\n\u001b[1;32m---> 62\u001b[0m     \u001b[38;5;28mself\u001b[39m\u001b[38;5;241m.\u001b[39mw_matrix[:, new_state] \u001b[38;5;241m=\u001b[39m \u001b[38;5;241m-\u001b[39mnp\u001b[38;5;241m.\u001b[39minf\n",
      "\u001b[1;31mOverflowError\u001b[0m: cannot convert float infinity to integer"
     ]
    }
   ],
   "source": [
    "episode = 5\n",
    "for episode in range(episode):\n",
    "    obs = env.reset()\n",
    "    done = False\n",
    "    score = 0\n",
    "\n",
    "    while not done:\n",
    "        action = env.action_space.sample()\n",
    "        obs, reward, done = env.step(action)\n",
    "        score += reward\n",
    "    print('Episode:{} Score:{}'.format(episode, score))\n",
    "env.close"
   ]
  },
  {
   "cell_type": "code",
   "execution_count": null,
   "id": "db626ad7-68d8-44f2-a339-1c18df1d2594",
   "metadata": {},
   "outputs": [],
   "source": []
  },
  {
   "cell_type": "code",
   "execution_count": null,
   "id": "e1efa947-8130-43f9-b55f-7f0b86c67eca",
   "metadata": {},
   "outputs": [],
   "source": []
  }
 ],
 "metadata": {
  "kernelspec": {
   "display_name": "Python 3 (ipykernel)",
   "language": "python",
   "name": "python3"
  },
  "language_info": {
   "codemirror_mode": {
    "name": "ipython",
    "version": 3
   },
   "file_extension": ".py",
   "mimetype": "text/x-python",
   "name": "python",
   "nbconvert_exporter": "python",
   "pygments_lexer": "ipython3",
   "version": "3.12.2"
  }
 },
 "nbformat": 4,
 "nbformat_minor": 5
}
