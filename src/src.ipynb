{
 "cells": [
  {
   "cell_type": "code",
   "execution_count": 3,
   "id": "5f3d49a2-37ff-4d70-b0bc-f7fc8a47b126",
   "metadata": {},
   "outputs": [],
   "source": [
    "import os\n",
    "import numpy as np\n",
    "import tsplib95 as tsp\n",
    "\n",
    "import gym\n",
    "from gym import Env\n",
    "from gym.spaces import Discrete\n",
    "\n",
    "from stable_baselines3 import PPO\n",
    "from stable_baselines3.common.vec_env import DummyVecEnv\n",
    "from stable_baselines3.common.evaluation import evaluate_policy"
   ]
  },
  {
   "cell_type": "code",
   "execution_count": 4,
   "id": "2e1b0278-71d7-405d-a59a-0ca0d11db63c",
   "metadata": {},
   "outputs": [],
   "source": [
    "def load_tsp(problem_file):\n",
    "    script_dir = os.getcwd()\n",
    "    problem_path = os.path.join(script_dir, problem_file)\n",
    "    problem = tsp.load(problem_path)\n",
    "    return problem"
   ]
  },
  {
   "cell_type": "code",
   "execution_count": 5,
   "id": "44ac57ca-a5ee-421b-aef1-292a8795996d",
   "metadata": {},
   "outputs": [],
   "source": [
    "gr24 = load_tsp(\"gr24.tsp\")\n",
    "#print(gr24)\n",
    "gr24_opt = load_tsp(\"gr24.opt.tour\")\n",
    "#print(gr24_opt)"
   ]
  },
  {
   "cell_type": "code",
   "execution_count": 76,
   "id": "ada8dcc1-7b8e-4641-9d0c-cc0e4431e772",
   "metadata": {},
   "outputs": [],
   "source": [
    "class tspEnv(Env):\n",
    "    def __init__(self, problem, start_node = 0):\n",
    "        self.problem = problem\n",
    "        self.action_space = Discrete(self.problem.dimension)\n",
    "        self.observation_space = Discrete(self.problem.dimension)\n",
    "        self.tour = []\n",
    "        self.max_length = self.problem.dimension\n",
    "        self.start = start_node\n",
    "        self.w_matrix = self._get_w_matrix()\n",
    "        \n",
    "    def step(self, action):\n",
    "         # Get current state\n",
    "        state = self._get_state()\n",
    "        new_state = action\n",
    "\n",
    "        # Get reward for such a move\n",
    "        reward = self._get_reward(state,new_state)\n",
    "\n",
    "        self._update_matrix(new_state)\n",
    "\n",
    "        # Append new_state to stops\n",
    "        self.tour.append(new_state)\n",
    "        done = len(self.tour) == self.max_length\n",
    "\n",
    "        return new_state, reward ,done\n",
    "\n",
    "    def next_rand_action(self):\n",
    "        if len(self.tour) == (self.max_length - 1):\n",
    "            return self.start\n",
    "        else:\n",
    "            while True:\n",
    "                a = self.action_space.sample()\n",
    "                if (((a not in self.tour) and (a != self.start)) and (a != self._get_state())):\n",
    "                    break\n",
    "            return a\n",
    "        \n",
    "    def render(self):\n",
    "        pass\n",
    "        \n",
    "    def reset(self):\n",
    "        self.tour = []\n",
    "        self.tour.append(self.start)\n",
    "        self.w_matrix = self._get_w_matrix()\n",
    "        return self.start\n",
    "\n",
    "    def _get_state(self):\n",
    "        return self.tour[-1]\n",
    "\n",
    "    def _get_reward(self, state, new_state):\n",
    "        return -self.w_matrix[state][new_state]\n",
    "\n",
    "    def _get_w_matrix(self):\n",
    "        data = []\n",
    "        weight = []\n",
    "        for i in self.problem.edge_weights:\n",
    "            for j in i:\n",
    "                data.append(j)\n",
    "\n",
    "        # convert lower triangle matrix to square matrix\n",
    "        if self.problem.edge_weight_format == \"LOWER_DIAG_ROW\":\n",
    "            for x in range(self.problem.dimension):   # format lower triangle matrix\n",
    "                node = []\n",
    "                w = data.pop(0)\n",
    "                while w != 0:\n",
    "                    node.append(w)\n",
    "                    w = data.pop(0)\n",
    "                while len(node) != self.problem.dimension:\n",
    "                    node.append(0)\n",
    "                weight.append(node)\n",
    "            matrix = np.triu(np.array(weight).T,1) + weight   #convert to square matrix\n",
    "        matrix[x == 0] = 10**5\n",
    "        return matrix\n",
    "\n",
    "    def _update_matrix(self, new_state):\n",
    "        self.w_matrix[:, new_state] = 10**5"
   ]
  },
  {
   "cell_type": "code",
   "execution_count": 77,
   "id": "c68376a4-5326-4de3-93b9-c9badc92ea96",
   "metadata": {},
   "outputs": [],
   "source": [
    "env = tspEnv(gr24)"
   ]
  },
  {
   "cell_type": "code",
   "execution_count": 78,
   "id": "2d565a17-8318-4dc0-86cf-a7ea03b8893a",
   "metadata": {},
   "outputs": [
    {
     "name": "stdout",
     "output_type": "stream",
     "text": [
      "Episode:0 Score:-3521\n",
      "Episode:1 Score:-3339\n",
      "Episode:2 Score:-3010\n",
      "Episode:3 Score:-3108\n",
      "Episode:4 Score:-3514\n"
     ]
    },
    {
     "data": {
      "text/plain": [
       "<bound method Env.close of <__main__.tspEnv object at 0x00000146C44E7B60>>"
      ]
     },
     "execution_count": 78,
     "metadata": {},
     "output_type": "execute_result"
    }
   ],
   "source": [
    "episode = 5\n",
    "for episode in range(episode):\n",
    "    obs = env.reset()\n",
    "    done = False\n",
    "    score = 0\n",
    "\n",
    "    while not done:\n",
    "        action = env.next_rand_action()\n",
    "        obs, reward, done = env.step(action)\n",
    "        score += reward\n",
    "    print('Episode:{} Score:{}'.format(episode, score))\n",
    "env.close"
   ]
  },
  {
   "cell_type": "code",
   "execution_count": null,
   "id": "db626ad7-68d8-44f2-a339-1c18df1d2594",
   "metadata": {},
   "outputs": [],
   "source": []
  },
  {
   "cell_type": "code",
   "execution_count": null,
   "id": "e1efa947-8130-43f9-b55f-7f0b86c67eca",
   "metadata": {},
   "outputs": [],
   "source": []
  }
 ],
 "metadata": {
  "kernelspec": {
   "display_name": "Python 3 (ipykernel)",
   "language": "python",
   "name": "python3"
  },
  "language_info": {
   "codemirror_mode": {
    "name": "ipython",
    "version": 3
   },
   "file_extension": ".py",
   "mimetype": "text/x-python",
   "name": "python",
   "nbconvert_exporter": "python",
   "pygments_lexer": "ipython3",
   "version": "3.12.2"
  }
 },
 "nbformat": 4,
 "nbformat_minor": 5
}
